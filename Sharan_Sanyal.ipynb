{
  "nbformat": 4,
  "nbformat_minor": 0,
  "metadata": {
    "colab": {
      "provenance": [],
      "collapsed_sections": []
    },
    "kernelspec": {
      "name": "python3",
      "display_name": "Python 3"
    },
    "language_info": {
      "name": "python"
    }
  },
  "cells": [
    {
      "cell_type": "markdown",
      "source": [
        "we generally start our code by importing the liberaries which we will throughout the programe.\n"
      ],
      "metadata": {
        "id": "okC_fVfA2yV6"
      }
    },
    {
      "cell_type": "code",
      "source": [
        "import numpy as np\n",
        "import pandas as pd\n",
        "import sklearn"
      ],
      "metadata": {
        "id": "D_mXzXiC3id_"
      },
      "execution_count": null,
      "outputs": []
    },
    {
      "cell_type": "code",
      "source": [
        "from sklearn.datasets import load_boston\n",
        "df = load_boston()"
      ],
      "metadata": {
        "id": "IIXeX7_a5I1e"
      },
      "execution_count": null,
      "outputs": []
    },
    {
      "cell_type": "code",
      "source": [
        "df.keys() "
      ],
      "metadata": {
        "id": "Gq4fqKYL5tyQ"
      },
      "execution_count": null,
      "outputs": []
    },
    {
      "cell_type": "code",
      "source": [
        "print(df.data) # Info about the dataset"
      ],
      "metadata": {
        "id": "Vl8mt8_V88oZ"
      },
      "execution_count": null,
      "outputs": []
    },
    {
      "cell_type": "code",
      "source": [
        "boston = pd.DataFrame(df.data, columns=df.features_names)\n",
        "boston.head()"
      ],
      "metadata": {
        "id": "1E6gLocUDTQS"
      },
      "execution_count": null,
      "outputs": []
    },
    {
      "cell_type": "markdown",
      "source": [
        "Adding a new column of target values to the dataframe"
      ],
      "metadata": {
        "id": "C-pnPzplHciX"
      }
    },
    {
      "cell_type": "code",
      "source": [
        "boston['MEDV'] = df.target\n",
        "boston.head()"
      ],
      "metadata": {
        "id": "7ccIQQM6G-H6"
      },
      "execution_count": null,
      "outputs": []
    },
    {
      "cell_type": "markdown",
      "source": [
        "Check if the dataset contain any null value or not"
      ],
      "metadata": {
        "id": "YEFe3wOCI5ob"
      }
    },
    {
      "cell_type": "code",
      "source": [
        "boston.isnull()"
      ],
      "metadata": {
        "id": "L7Ne36I4I2ex"
      },
      "execution_count": null,
      "outputs": []
    },
    {
      "cell_type": "code",
      "source": [
        "boston.isnull().sum()"
      ],
      "metadata": {
        "id": "bkr95db3JZXK"
      },
      "execution_count": null,
      "outputs": []
    },
    {
      "cell_type": "markdown",
      "source": [
        "We never the model on all the data that we have , we always make sure to atleast  have a test dataset,which is different from the training dataset."
      ],
      "metadata": {
        "id": "ulyDuNkKKiYM"
      }
    },
    {
      "cell_type": "code",
      "source": [
        "from sklearn.model_section import train_test_split\n",
        "X = boston.drop('MEDV', axis=1)\n",
        "Y = boston['MEDV']\n",
        "X_train, X_test, Y_train, Y_test = train_test_split(X, Y, test_size =0.15, random_state=5)\n",
        "print(X_train.shape)\n",
        "print(X_test.shape)\n",
        "print(Y_train.shape)\n",
        "print(Y_test.shape)"
      ],
      "metadata": {
        "id": "Arq5xkKNLWLj"
      },
      "execution_count": null,
      "outputs": []
    },
    {
      "cell_type": "markdown",
      "source": [
        "Now let's import linear Regression model from sklearn and train it on the trainig dataset"
      ],
      "metadata": {
        "id": "ApfrHaKlSO5Q"
      }
    },
    {
      "cell_type": "code",
      "source": [
        "from sklearn.linear_model import Linear_Regression\n",
        "from sklearn.metrics import mean_squared_error"
      ],
      "metadata": {
        "id": "LQdXB7U-Strh"
      },
      "execution_count": null,
      "outputs": []
    },
    {
      "cell_type": "code",
      "source": [
        " LinearRegression\n",
        "## FITTING MODEL ON THE TRAINIG DATASET\n",
        "\n",
        "lin_model = LinearRegression()\n",
        "lin_model.fit(X_train, Y_train)"
      ],
      "metadata": {
        "id": "ah11ea9RVqpq"
      },
      "execution_count": null,
      "outputs": []
    },
    {
      "cell_type": "code",
      "source": [
        "y_train_predict = lin_model.predict(X_train)\n",
        "rmse = (np.sqrt(mean_squared_error(y_train, y_train_predict)))\n",
        "\n",
        "print(\"The model performance for trainig set\")\n",
        "print('RMSE is {}'.format(rmse))\n",
        "print(\"\\n\")\n",
        "\n",
        "# on testing set\n",
        "y_test_predict = lin_model.predict(X_test)\n",
        "rmse = (np.sqrt(mean_squared_error(Y_test, y_test_predict)))\n",
        "print(\"The model performance for testing set\")\n",
        "print('RMSE is {}'.format(rmse))"
      ],
      "metadata": {
        "id": "IGhmu-JqXKCi"
      },
      "execution_count": null,
      "outputs": []
    }
  ]
}